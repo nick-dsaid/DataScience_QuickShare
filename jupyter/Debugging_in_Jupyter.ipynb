{
 "cells": [
  {
   "cell_type": "markdown",
   "id": "45f01289-cecb-45db-be5b-03fcd8c76932",
   "metadata": {},
   "source": [
    "# Debugging in Jupyter Notebook"
   ]
  },
  {
   "cell_type": "markdown",
   "id": "99927207-a09a-48ad-8174-da7944e9ceb2",
   "metadata": {
    "tags": []
   },
   "source": [
    "## Method 1: Error Message with Extra Information"
   ]
  },
  {
   "cell_type": "markdown",
   "id": "cb924648-aa1a-41d4-9ff6-1e14d42236a5",
   "metadata": {},
   "source": [
    "> Most of the time when a cell fails to execute, it will raise an exception (A.K.A. error). When Python encounter one of these erorrs, information about the cause of the error can be found in the **traceback** statements. \n",
    "> \n",
    "> With the **%xmode** magic function, Python allows you to control the amount of information printed when the exception is raised. "
   ]
  },
  {
   "cell_type": "code",
   "execution_count": 1,
   "id": "8a62a7ca-4fdd-41d2-82ac-d581ee64c72b",
   "metadata": {},
   "outputs": [],
   "source": [
    "# Here we define a simple function for this demo\n",
    "def func_divider(a, b):\n",
    "    return a/b"
   ]
  },
  {
   "cell_type": "code",
   "execution_count": 2,
   "id": "81510212-aab1-4818-9f92-ea5143626f30",
   "metadata": {},
   "outputs": [
    {
     "ename": "ZeroDivisionError",
     "evalue": "division by zero",
     "output_type": "error",
     "traceback": [
      "\u001b[0;31m\u001b[0m",
      "\u001b[0;31mZeroDivisionError\u001b[0mTraceback (most recent call last)",
      "\u001b[0;32m<ipython-input-2-4e2e6d45eb43>\u001b[0m in \u001b[0;36m<module>\u001b[0;34m\u001b[0m\n\u001b[0;32m----> 1\u001b[0;31m \u001b[0mfunc_divider\u001b[0m\u001b[0;34m(\u001b[0m\u001b[0;36m2\u001b[0m\u001b[0;34m,\u001b[0m\u001b[0;36m0\u001b[0m\u001b[0;34m)\u001b[0m\u001b[0;34m\u001b[0m\u001b[0;34m\u001b[0m\u001b[0m\n\u001b[0m",
      "\u001b[0;32m<ipython-input-1-9daed4b1e9f6>\u001b[0m in \u001b[0;36mfunc_divider\u001b[0;34m(a, b)\u001b[0m\n\u001b[1;32m      1\u001b[0m \u001b[0;31m# Here we define a simple function for this demo\u001b[0m\u001b[0;34m\u001b[0m\u001b[0;34m\u001b[0m\u001b[0;34m\u001b[0m\u001b[0m\n\u001b[1;32m      2\u001b[0m \u001b[0;32mdef\u001b[0m \u001b[0mfunc_divider\u001b[0m\u001b[0;34m(\u001b[0m\u001b[0ma\u001b[0m\u001b[0;34m,\u001b[0m \u001b[0mb\u001b[0m\u001b[0;34m)\u001b[0m\u001b[0;34m:\u001b[0m\u001b[0;34m\u001b[0m\u001b[0;34m\u001b[0m\u001b[0m\n\u001b[0;32m----> 3\u001b[0;31m     \u001b[0;32mreturn\u001b[0m \u001b[0ma\u001b[0m\u001b[0;34m/\u001b[0m\u001b[0mb\u001b[0m\u001b[0;34m\u001b[0m\u001b[0;34m\u001b[0m\u001b[0m\n\u001b[0m",
      "\u001b[0;31mZeroDivisionError\u001b[0m: division by zero"
     ]
    }
   ],
   "source": [
    "func_divider(2,0)"
   ]
  },
  {
   "cell_type": "code",
   "execution_count": 3,
   "id": "3a8c4697-d6cf-4fb7-bad2-1b90187d2783",
   "metadata": {},
   "outputs": [
    {
     "name": "stdout",
     "output_type": "stream",
     "text": [
      "Exception reporting mode: Verbose\n"
     ]
    }
   ],
   "source": [
    "# This is one of the many \"Magic Commands\"\n",
    "# that we can use when using Python in Jupyter Notebook.\n",
    "# Possible values are:  \"Plain\", \"Context\", \"Verbose\"\n",
    "%xmode Verbose"
   ]
  },
  {
   "cell_type": "code",
   "execution_count": 4,
   "id": "311b7c2c-434a-4a1e-a4ad-8f7b05beae87",
   "metadata": {},
   "outputs": [
    {
     "ename": "ZeroDivisionError",
     "evalue": "division by zero",
     "output_type": "error",
     "traceback": [
      "\u001b[0;31m\u001b[0m",
      "\u001b[0;31mZeroDivisionError\u001b[0mTraceback (most recent call last)",
      "\u001b[0;32m<ipython-input-4-4e2e6d45eb43>\u001b[0m in \u001b[0;36m<module>\u001b[0;34m\u001b[0m\n\u001b[0;32m----> 1\u001b[0;31m \u001b[0mfunc_divider\u001b[0m\u001b[0;34m(\u001b[0m\u001b[0;36m2\u001b[0m\u001b[0;34m,\u001b[0m\u001b[0;36m0\u001b[0m\u001b[0;34m)\u001b[0m\u001b[0;34m\u001b[0m\u001b[0;34m\u001b[0m\u001b[0m\n\u001b[0m        \u001b[0;36mglobal\u001b[0m \u001b[0;36mfunc_divider\u001b[0m \u001b[0;34m= <function func_divider at 0x7f4324412310>\u001b[0m\n",
      "\u001b[0;32m<ipython-input-1-9daed4b1e9f6>\u001b[0m in \u001b[0;36mfunc_divider\u001b[0;34m(a=2, b=0)\u001b[0m\n\u001b[1;32m      1\u001b[0m \u001b[0;31m# Here we define a simple function for this demo\u001b[0m\u001b[0;34m\u001b[0m\u001b[0;34m\u001b[0m\u001b[0;34m\u001b[0m\u001b[0m\n\u001b[1;32m      2\u001b[0m \u001b[0;32mdef\u001b[0m \u001b[0mfunc_divider\u001b[0m\u001b[0;34m(\u001b[0m\u001b[0ma\u001b[0m\u001b[0;34m,\u001b[0m \u001b[0mb\u001b[0m\u001b[0;34m)\u001b[0m\u001b[0;34m:\u001b[0m\u001b[0;34m\u001b[0m\u001b[0;34m\u001b[0m\u001b[0m\n\u001b[0;32m----> 3\u001b[0;31m     \u001b[0;32mreturn\u001b[0m \u001b[0ma\u001b[0m\u001b[0;34m/\u001b[0m\u001b[0mb\u001b[0m\u001b[0;34m\u001b[0m\u001b[0;34m\u001b[0m\u001b[0m\n\u001b[0m        \u001b[0;36ma\u001b[0m \u001b[0;34m= 2\u001b[0m\u001b[0;34m\n        \u001b[0m\u001b[0;36mb\u001b[0m \u001b[0;34m= 0\u001b[0m\n",
      "\u001b[0;31mZeroDivisionError\u001b[0m: division by zero"
     ]
    }
   ],
   "source": [
    "# Notice in this cell, there are more info about the error\n",
    "# (the values of the two variables are shown)\n",
    "func_divider(2,0)"
   ]
  },
  {
   "cell_type": "markdown",
   "id": "289e8240-4eea-4c95-ae30-ad284637c9b4",
   "metadata": {},
   "source": [
    "## Method 2: Debugging within Jupyter Notebook"
   ]
  },
  {
   "cell_type": "markdown",
   "id": "008074e1-dbbb-491b-8548-34256d73f412",
   "metadata": {
    "tags": []
   },
   "source": [
    "> The tool for interactive debugging in Jupyter Notebook is **ipdb**. This debugger lets the user step through the code line by line in order to see what might be causing a more difficult error.\n",
    ">\n",
    "> We're covering one of the many ways to launch and use the debugger. Within Jupyter Notebook, the most convenient interface to debugging is the **%debug** magic command\n",
    ">\n",
    "> If you call it after hitting an exception, it will automatically open an interactive debugging prompt at the point of the exception. The ipdb prompt lets you explore the current state of the stack, explore the available variables, and even run Python commands\n",
    ">\n",
    "> You can find out more about the debugger from  [here](https://docs.python.org/3/library/pdb.html)"
   ]
  },
  {
   "cell_type": "code",
   "execution_count": 5,
   "id": "40621725-c5cb-48c8-b9db-3a44213e97af",
   "metadata": {},
   "outputs": [],
   "source": [
    "# Here we define a simple function for this demo\n",
    "# Same function as in Method 1\n",
    "def func_divider(a, b):\n",
    "    return a/b"
   ]
  },
  {
   "cell_type": "markdown",
   "id": "96fb503a-0fa0-47bd-aa28-a39665c8d1e9",
   "metadata": {},
   "source": [
    "> When prompted for input after running the following cell, you can enter the following commands to interact with the debugger:\n",
    "> - print(a)   # to print value of the variable \"a\" when the error occurs\n",
    "> - print(b)  # to print value of the variable \"b\" when the error occurs\n",
    "> - list # the location of current line\n",
    "> - up # Go up to earlier part of the codes (moving up from the line with error)\n",
    "> - down # Go down to later part of the codes (moving down from the line with error)\n",
    "> - continue # Quite the debugger and continue in the program\n",
    "> - quit # Exit the debugger\n"
   ]
  },
  {
   "cell_type": "code",
   "execution_count": 6,
   "id": "29aab06b-cc7b-432e-ae5b-2714487bc4fe",
   "metadata": {},
   "outputs": [
    {
     "name": "stdout",
     "output_type": "stream",
     "text": [
      "> \u001b[0;32m<ipython-input-1-9daed4b1e9f6>\u001b[0m(3)\u001b[0;36mfunc_divider\u001b[0;34m()\u001b[0m\n",
      "\u001b[0;32m      1 \u001b[0;31m\u001b[0;31m# Here we define a simple function for this demo\u001b[0m\u001b[0;34m\u001b[0m\u001b[0;34m\u001b[0m\u001b[0;34m\u001b[0m\u001b[0m\n",
      "\u001b[0m\u001b[0;32m      2 \u001b[0;31m\u001b[0;32mdef\u001b[0m \u001b[0mfunc_divider\u001b[0m\u001b[0;34m(\u001b[0m\u001b[0ma\u001b[0m\u001b[0;34m,\u001b[0m \u001b[0mb\u001b[0m\u001b[0;34m)\u001b[0m\u001b[0;34m:\u001b[0m\u001b[0;34m\u001b[0m\u001b[0;34m\u001b[0m\u001b[0m\n",
      "\u001b[0m\u001b[0;32m----> 3 \u001b[0;31m    \u001b[0;32mreturn\u001b[0m \u001b[0ma\u001b[0m\u001b[0;34m/\u001b[0m\u001b[0mb\u001b[0m\u001b[0;34m\u001b[0m\u001b[0;34m\u001b[0m\u001b[0m\n",
      "\u001b[0m\n"
     ]
    },
    {
     "name": "stdin",
     "output_type": "stream",
     "text": [
      "ipdb>  list\n"
     ]
    },
    {
     "name": "stdout",
     "output_type": "stream",
     "text": [
      "\u001b[1;32m      1 \u001b[0m\u001b[0;31m# Here we define a simple function for this demo\u001b[0m\u001b[0;34m\u001b[0m\u001b[0;34m\u001b[0m\u001b[0;34m\u001b[0m\u001b[0m\n",
      "\u001b[1;32m      2 \u001b[0m\u001b[0;32mdef\u001b[0m \u001b[0mfunc_divider\u001b[0m\u001b[0;34m(\u001b[0m\u001b[0ma\u001b[0m\u001b[0;34m,\u001b[0m \u001b[0mb\u001b[0m\u001b[0;34m)\u001b[0m\u001b[0;34m:\u001b[0m\u001b[0;34m\u001b[0m\u001b[0;34m\u001b[0m\u001b[0m\n",
      "\u001b[0;32m----> 3 \u001b[0;31m    \u001b[0;32mreturn\u001b[0m \u001b[0ma\u001b[0m\u001b[0;34m/\u001b[0m\u001b[0mb\u001b[0m\u001b[0;34m\u001b[0m\u001b[0;34m\u001b[0m\u001b[0m\n",
      "\u001b[0m\n"
     ]
    },
    {
     "name": "stdin",
     "output_type": "stream",
     "text": [
      "ipdb>  print(a)\n"
     ]
    },
    {
     "name": "stdout",
     "output_type": "stream",
     "text": [
      "2\n"
     ]
    },
    {
     "name": "stdin",
     "output_type": "stream",
     "text": [
      "ipdb>  quit\n"
     ]
    },
    {
     "ename": "ZeroDivisionError",
     "evalue": "division by zero",
     "output_type": "error",
     "traceback": [
      "\u001b[0;31m\u001b[0m",
      "\u001b[0;31mZeroDivisionError\u001b[0mTraceback (most recent call last)",
      "\u001b[0;32m<ipython-input-6-c36df89aca8b>\u001b[0m in \u001b[0;36m<module>\u001b[0;34m\u001b[0m\n\u001b[1;32m      1\u001b[0m \u001b[0mget_ipython\u001b[0m\u001b[0;34m(\u001b[0m\u001b[0;34m)\u001b[0m\u001b[0;34m.\u001b[0m\u001b[0mrun_line_magic\u001b[0m\u001b[0;34m(\u001b[0m\u001b[0;34m'debug'\u001b[0m\u001b[0;34m,\u001b[0m \u001b[0;34m''\u001b[0m\u001b[0;34m)\u001b[0m\u001b[0;34m\u001b[0m\u001b[0;34m\u001b[0m\u001b[0m\n\u001b[0;32m----> 2\u001b[0;31m \u001b[0mfunc_divider\u001b[0m\u001b[0;34m(\u001b[0m\u001b[0;36m2\u001b[0m\u001b[0;34m,\u001b[0m\u001b[0;36m0\u001b[0m\u001b[0;34m)\u001b[0m\u001b[0;34m\u001b[0m\u001b[0;34m\u001b[0m\u001b[0m\n\u001b[0m        \u001b[0;36mglobal\u001b[0m \u001b[0;36mfunc_divider\u001b[0m \u001b[0;34m= <function func_divider at 0x7f4324333b80>\u001b[0m\n",
      "\u001b[0;32m<ipython-input-5-e3b953f7089f>\u001b[0m in \u001b[0;36mfunc_divider\u001b[0;34m(a=2, b=0)\u001b[0m\n\u001b[1;32m      2\u001b[0m \u001b[0;31m# Same function as in Method 1\u001b[0m\u001b[0;34m\u001b[0m\u001b[0;34m\u001b[0m\u001b[0;34m\u001b[0m\u001b[0m\n\u001b[1;32m      3\u001b[0m \u001b[0;32mdef\u001b[0m \u001b[0mfunc_divider\u001b[0m\u001b[0;34m(\u001b[0m\u001b[0ma\u001b[0m\u001b[0;34m,\u001b[0m \u001b[0mb\u001b[0m\u001b[0;34m)\u001b[0m\u001b[0;34m:\u001b[0m\u001b[0;34m\u001b[0m\u001b[0;34m\u001b[0m\u001b[0m\n\u001b[0;32m----> 4\u001b[0;31m     \u001b[0;32mreturn\u001b[0m \u001b[0ma\u001b[0m\u001b[0;34m/\u001b[0m\u001b[0mb\u001b[0m\u001b[0;34m\u001b[0m\u001b[0;34m\u001b[0m\u001b[0m\n\u001b[0m        \u001b[0;36ma\u001b[0m \u001b[0;34m= 2\u001b[0m\u001b[0;34m\n        \u001b[0m\u001b[0;36mb\u001b[0m \u001b[0;34m= 0\u001b[0m\n",
      "\u001b[0;31mZeroDivisionError\u001b[0m: division by zero"
     ]
    }
   ],
   "source": [
    "%debug\n",
    "func_divider(2,0)"
   ]
  },
  {
   "cell_type": "code",
   "execution_count": null,
   "id": "115c9426-ab9c-451c-b908-51f265e235ac",
   "metadata": {},
   "outputs": [],
   "source": []
  }
 ],
 "metadata": {
  "kernelspec": {
   "display_name": "Python 3",
   "language": "python",
   "name": "python3"
  },
  "language_info": {
   "codemirror_mode": {
    "name": "ipython",
    "version": 3
   },
   "file_extension": ".py",
   "mimetype": "text/x-python",
   "name": "python",
   "nbconvert_exporter": "python",
   "pygments_lexer": "ipython3",
   "version": "3.8.6"
  }
 },
 "nbformat": 4,
 "nbformat_minor": 5
}
