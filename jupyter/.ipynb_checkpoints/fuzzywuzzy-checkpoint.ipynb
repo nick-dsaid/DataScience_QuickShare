{
 "cells": [
  {
   "cell_type": "code",
   "execution_count": null,
   "id": "c5fceb33-7217-46f9-ae6b-ee69c54473d8",
   "metadata": {},
   "outputs": [],
   "source": [
    "# This line install the package. Only need to run once.\n",
    "# It requires internet to install the package\n",
    "!pip install -U fuzzywuzzy"
   ]
  },
  {
   "cell_type": "code",
   "execution_count": 1,
   "id": "02f19c4e-3ca8-4315-b88c-2de9eb01a3b4",
   "metadata": {},
   "outputs": [],
   "source": [
    "import pandas as pd\n",
    "from fuzzywuzzy import process"
   ]
  },
  {
   "cell_type": "markdown",
   "id": "4159d970-f18a-4033-9763-c5aa2be6f149",
   "metadata": {},
   "source": [
    "# 1.0 Creating Sample Data for Matching"
   ]
  },
  {
   "cell_type": "code",
   "execution_count": 2,
   "id": "b153d962-039e-49a3-b0ca-af2219127a56",
   "metadata": {},
   "outputs": [
    {
     "data": {
      "text/html": [
       "<div>\n",
       "<style scoped>\n",
       "    .dataframe tbody tr th:only-of-type {\n",
       "        vertical-align: middle;\n",
       "    }\n",
       "\n",
       "    .dataframe tbody tr th {\n",
       "        vertical-align: top;\n",
       "    }\n",
       "\n",
       "    .dataframe thead th {\n",
       "        text-align: right;\n",
       "    }\n",
       "</style>\n",
       "<table border=\"1\" class=\"dataframe\">\n",
       "  <thead>\n",
       "    <tr style=\"text-align: right;\">\n",
       "      <th></th>\n",
       "      <th>name</th>\n",
       "      <th>gender</th>\n",
       "    </tr>\n",
       "  </thead>\n",
       "  <tbody>\n",
       "    <tr>\n",
       "      <th>0</th>\n",
       "      <td>Merry Chan</td>\n",
       "      <td>Female</td>\n",
       "    </tr>\n",
       "    <tr>\n",
       "      <th>1</th>\n",
       "      <td>Tan Ah Beng</td>\n",
       "      <td>Male</td>\n",
       "    </tr>\n",
       "    <tr>\n",
       "      <th>2</th>\n",
       "      <td>Abdul Aziz</td>\n",
       "      <td>Male</td>\n",
       "    </tr>\n",
       "    <tr>\n",
       "      <th>3</th>\n",
       "      <td>Kumar Rajah</td>\n",
       "      <td>Male</td>\n",
       "    </tr>\n",
       "  </tbody>\n",
       "</table>\n",
       "</div>"
      ],
      "text/plain": [
       "          name  gender\n",
       "0   Merry Chan  Female\n",
       "1  Tan Ah Beng    Male\n",
       "2   Abdul Aziz    Male\n",
       "3  Kumar Rajah    Male"
      ]
     },
     "execution_count": 2,
     "metadata": {},
     "output_type": "execute_result"
    }
   ],
   "source": [
    "data = [\n",
    "    ['Merry Chan', 'Female'],\n",
    "    ['Tan Ah Beng', 'Male'],\n",
    "    ['Abdul Aziz', 'Male'],\n",
    "    ['Kumar Rajah', 'Male']\n",
    "]\n",
    "\n",
    "\n",
    "df1 = pd.DataFrame(data, columns=['name', 'gender'])\n",
    "df1"
   ]
  },
  {
   "cell_type": "code",
   "execution_count": 3,
   "id": "638d2827-5d9b-4e84-a99a-aac4fab96b4d",
   "metadata": {},
   "outputs": [
    {
     "data": {
      "text/html": [
       "<div>\n",
       "<style scoped>\n",
       "    .dataframe tbody tr th:only-of-type {\n",
       "        vertical-align: middle;\n",
       "    }\n",
       "\n",
       "    .dataframe tbody tr th {\n",
       "        vertical-align: top;\n",
       "    }\n",
       "\n",
       "    .dataframe thead th {\n",
       "        text-align: right;\n",
       "    }\n",
       "</style>\n",
       "<table border=\"1\" class=\"dataframe\">\n",
       "  <thead>\n",
       "    <tr style=\"text-align: right;\">\n",
       "      <th></th>\n",
       "      <th>name</th>\n",
       "      <th>score</th>\n",
       "    </tr>\n",
       "  </thead>\n",
       "  <tbody>\n",
       "    <tr>\n",
       "      <th>0</th>\n",
       "      <td>Marry Chan</td>\n",
       "      <td>70</td>\n",
       "    </tr>\n",
       "    <tr>\n",
       "      <th>1</th>\n",
       "      <td>Tang Ah Ben</td>\n",
       "      <td>35</td>\n",
       "    </tr>\n",
       "    <tr>\n",
       "      <th>2</th>\n",
       "      <td>Abu Aziz</td>\n",
       "      <td>75</td>\n",
       "    </tr>\n",
       "  </tbody>\n",
       "</table>\n",
       "</div>"
      ],
      "text/plain": [
       "          name  score\n",
       "0   Marry Chan     70\n",
       "1  Tang Ah Ben     35\n",
       "2     Abu Aziz     75"
      ]
     },
     "execution_count": 3,
     "metadata": {},
     "output_type": "execute_result"
    }
   ],
   "source": [
    "data2 = [\n",
    "    ['Marry Chan', 70],\n",
    "    ['Tang Ah Ben', 35],\n",
    "    ['Abu Aziz', 75]\n",
    "]\n",
    "\n",
    "\n",
    "df2 = pd.DataFrame(data2, columns=['name', 'score'])\n",
    "df2"
   ]
  },
  {
   "cell_type": "markdown",
   "id": "4a7c9b69-679a-4c40-882c-526eb3e9ca36",
   "metadata": {},
   "source": [
    "# 2.0 Generating the Matched Text"
   ]
  },
  {
   "cell_type": "code",
   "execution_count": 4,
   "id": "df5b10df-9915-4731-a938-4bcd1827a74e",
   "metadata": {},
   "outputs": [],
   "source": [
    "# list for storing the matching result\n",
    "results = []\n",
    "\n",
    "# for each step in the loop, we process every \"name\" value in the df1\n",
    "for name_in_df1 in df1.name:\n",
    "    # Store the two results returned by the function\n",
    "    (best_matched, match_score, _) = process.extractOne(name_in_df1, df2.name)\n",
    "    # Append the results into the list, together with the original value (i.e. name_in_df1)\n",
    "    results.append([name_in_df1, best_matched, match_score])"
   ]
  },
  {
   "cell_type": "code",
   "execution_count": 5,
   "id": "f76b02e4-78cc-4b4e-944f-e6f20553c1c6",
   "metadata": {},
   "outputs": [
    {
     "data": {
      "text/html": [
       "<div>\n",
       "<style scoped>\n",
       "    .dataframe tbody tr th:only-of-type {\n",
       "        vertical-align: middle;\n",
       "    }\n",
       "\n",
       "    .dataframe tbody tr th {\n",
       "        vertical-align: top;\n",
       "    }\n",
       "\n",
       "    .dataframe thead th {\n",
       "        text-align: right;\n",
       "    }\n",
       "</style>\n",
       "<table border=\"1\" class=\"dataframe\">\n",
       "  <thead>\n",
       "    <tr style=\"text-align: right;\">\n",
       "      <th></th>\n",
       "      <th>name_in_table1</th>\n",
       "      <th>best_match_from_table2</th>\n",
       "      <th>match_score</th>\n",
       "    </tr>\n",
       "  </thead>\n",
       "  <tbody>\n",
       "    <tr>\n",
       "      <th>0</th>\n",
       "      <td>Merry Chan</td>\n",
       "      <td>Marry Chan</td>\n",
       "      <td>90</td>\n",
       "    </tr>\n",
       "    <tr>\n",
       "      <th>1</th>\n",
       "      <td>Tan Ah Beng</td>\n",
       "      <td>Tang Ah Ben</td>\n",
       "      <td>91</td>\n",
       "    </tr>\n",
       "    <tr>\n",
       "      <th>2</th>\n",
       "      <td>Abdul Aziz</td>\n",
       "      <td>Abu Aziz</td>\n",
       "      <td>89</td>\n",
       "    </tr>\n",
       "    <tr>\n",
       "      <th>3</th>\n",
       "      <td>Kumar Rajah</td>\n",
       "      <td>Marry Chan</td>\n",
       "      <td>48</td>\n",
       "    </tr>\n",
       "  </tbody>\n",
       "</table>\n",
       "</div>"
      ],
      "text/plain": [
       "  name_in_table1 best_match_from_table2  match_score\n",
       "0     Merry Chan             Marry Chan           90\n",
       "1    Tan Ah Beng            Tang Ah Ben           91\n",
       "2     Abdul Aziz               Abu Aziz           89\n",
       "3    Kumar Rajah             Marry Chan           48"
      ]
     },
     "execution_count": 5,
     "metadata": {},
     "output_type": "execute_result"
    }
   ],
   "source": [
    "# Transform the results into a DataFrame\n",
    "# This make it easier to view and easy to be used for further processing or merging\n",
    "results = pd.DataFrame(results, columns=['name_in_table1', 'best_match_from_table2', 'match_score'])\n",
    "results"
   ]
  },
  {
   "cell_type": "markdown",
   "id": "732c05fa-d53a-4c1d-8a9d-3c90525b3c38",
   "metadata": {},
   "source": [
    "> **What's after this?**\n",
    ">\n",
    "> You can use this as the \"mapping table\" to merge the records from the two DataFrame.\n",
    ">\n",
    "> ⚠️ Do Note that you might still need manual check on the matched text, or do further processing for cleaner results."
   ]
  },
  {
   "cell_type": "markdown",
   "id": "e8732f35-1ca7-40e7-83aa-7df491f76b72",
   "metadata": {},
   "source": [
    "# 3.0 Reference and Read More"
   ]
  },
  {
   "cell_type": "markdown",
   "id": "936f6f54-9a1a-4176-ab1c-f811d91db5c0",
   "metadata": {},
   "source": [
    "For more details like other ways to use the package and the detailed documentation, do visit:\n",
    "[https://github.com/seatgeek/thefuzz](https://github.com/seatgeek/thefuzz)"
   ]
  },
  {
   "cell_type": "code",
   "execution_count": null,
   "id": "def51013-1b8d-4877-8188-7331d2eda293",
   "metadata": {},
   "outputs": [],
   "source": []
  }
 ],
 "metadata": {
  "kernelspec": {
   "display_name": "Python 3",
   "language": "python",
   "name": "python3"
  },
  "language_info": {
   "codemirror_mode": {
    "name": "ipython",
    "version": 3
   },
   "file_extension": ".py",
   "mimetype": "text/x-python",
   "name": "python",
   "nbconvert_exporter": "python",
   "pygments_lexer": "ipython3",
   "version": "3.8.6"
  }
 },
 "nbformat": 4,
 "nbformat_minor": 5
}
