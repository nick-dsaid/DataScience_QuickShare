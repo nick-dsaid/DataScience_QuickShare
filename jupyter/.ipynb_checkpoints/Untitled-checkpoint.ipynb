{
 "cells": [
  {
   "cell_type": "markdown",
   "id": "6bf2d06c-85f5-423f-92d5-4f2ecf77d76f",
   "metadata": {},
   "source": [
    "# Introduction"
   ]
  },
  {
   "cell_type": "markdown",
   "id": "85ec5109-a928-4ecc-9fc9-095492b833d2",
   "metadata": {},
   "source": [
    "Encryption can do two main things:\n",
    "- converts plain text into cipher text which also called encrypted data\n",
    "- convert the cipher text (encrypted data) back to the plain text"
   ]
  },
  {
   "cell_type": "markdown",
   "id": "35e699d5-3bfc-48f1-b751-9caba5d8962f",
   "metadata": {},
   "source": [
    "In this notebook, We will be using the **fernet module** in the cryptography package to encrypt and decrypt text (which is the data)"
   ]
  },
  {
   "cell_type": "markdown",
   "id": "9d68bbe8-e777-4375-80d4-4c038c017a4f",
   "metadata": {},
   "source": [
    "# Installing and Importing the Package"
   ]
  },
  {
   "cell_type": "markdown",
   "id": "bb8e4d64-da99-4351-9777-2bd9919d5a71",
   "metadata": {},
   "source": [
    "The required package **cryptography** may not come packaged with your Python, which means you will have to install it using the pip package manager. To do so, run the code below.\n",
    "\n",
    "> ⚠️ Internet access is needed.\n"
   ]
  },
  {
   "cell_type": "code",
   "execution_count": null,
   "id": "11ba4be4-cffc-4963-b5be-b4d02659ace2",
   "metadata": {},
   "outputs": [],
   "source": [
    "# Run once for installation\n",
    "!pip install cryptography"
   ]
  },
  {
   "cell_type": "code",
   "execution_count": 1,
   "id": "979ff224-4a99-42dd-9249-655aa6f60907",
   "metadata": {},
   "outputs": [],
   "source": [
    "from cryptography.fernet import Fernet"
   ]
  },
  {
   "cell_type": "code",
   "execution_count": 2,
   "id": "b5e598d5-d1a0-4978-9008-4436dae41d11",
   "metadata": {},
   "outputs": [],
   "source": [
    "# In order to start encrypting data,\n",
    "# we must first create a fernet key.\n",
    "\n",
    "key =  Fernet.generate_key() \n",
    "f =  Fernet(key)\n",
    "\n",
    "#In the above lines, \n",
    "# we generated a key using the generate_key() method \n",
    "# and then assigned that key to a variable “f” in the next line."
   ]
  },
  {
   "cell_type": "code",
   "execution_count": 3,
   "id": "bcdcd2c5-2f62-4f13-8b88-169d4bcb7ad2",
   "metadata": {},
   "outputs": [
    {
     "name": "stdout",
     "output_type": "stream",
     "text": [
      "kriaxdHwu5c_L8jV6ng5S-KihWK7cRm6Qsrey20shuI=\n"
     ]
    }
   ],
   "source": [
    "# To view \n",
    "print(key.decode())"
   ]
  },
  {
   "cell_type": "code",
   "execution_count": 4,
   "id": "436ebc2e-432c-490f-8dcd-7c5288cb61a4",
   "metadata": {
    "tags": []
   },
   "outputs": [],
   "source": [
    "# Save the key for reuse\n",
    "path_to_save_key = 'mykey.txt' # e.g. D://myfolder/mykeys.txt\n",
    "textfile_new = open(path_to_save_key, 'w')\n",
    "textfile_new.write(key.decode())\n",
    "textfile_new.close()"
   ]
  },
  {
   "cell_type": "markdown",
   "id": "fa1db00d-de60-4862-8983-0a2985ac6675",
   "metadata": {},
   "source": [
    "# Encrypting Data"
   ]
  },
  {
   "cell_type": "code",
   "execution_count": 5,
   "id": "68807cae-b950-40ca-bb1e-c77d392f638e",
   "metadata": {},
   "outputs": [],
   "source": [
    "encrypted_data = f.encrypt(b\"This message contains confidential data\")"
   ]
  },
  {
   "cell_type": "code",
   "execution_count": 6,
   "id": "b1e86957-582a-4680-8bba-291d99b600f5",
   "metadata": {},
   "outputs": [
    {
     "name": "stdout",
     "output_type": "stream",
     "text": [
      "b'gAAAAABiFw5qhFYpxF0P6fvSLWwJl0o1ScRlxlG4zZ2EvXziqPk61AFx92Pi4RUEaH2hXdkUf5gZOz9li2Jz5ZBOtctQvVuAsJGFk5vpmpN-dVaLBmcPVHUKDrMsWr3vxrbkVkeLtz3N'\n"
     ]
    }
   ],
   "source": [
    "print(encrypted_data)"
   ]
  },
  {
   "cell_type": "markdown",
   "id": "0a8d55ae-fd4c-4193-ad5a-3964b6318343",
   "metadata": {},
   "source": [
    "# Decrypting Data"
   ]
  },
  {
   "cell_type": "code",
   "execution_count": 7,
   "id": "afaf66bd-c6e4-459d-a13e-c97c12ebf8e7",
   "metadata": {},
   "outputs": [],
   "source": [
    "decrypted_data = f.decrypt(encrypted_data) # f is the variable that has the value of the key."
   ]
  },
  {
   "cell_type": "code",
   "execution_count": 8,
   "id": "6329bf4e-86fb-4d89-a372-b988f0508863",
   "metadata": {},
   "outputs": [
    {
     "name": "stdout",
     "output_type": "stream",
     "text": [
      "b'This message contains confidential data'\n"
     ]
    }
   ],
   "source": [
    "print(decrypted_data)"
   ]
  },
  {
   "cell_type": "markdown",
   "id": "025d3cb3-fea4-48bc-ac4b-506dda35e7e3",
   "metadata": {},
   "source": [
    "If you look at the above output, you can notice that there is b’ before the printed plaintext, this is because encrypted data is being converted back into byte format. In order to get just the plain text, we need to use the decode function."
   ]
  },
  {
   "cell_type": "code",
   "execution_count": 9,
   "id": "1bdcc410-a430-4f94-bda9-e95a92d9f26a",
   "metadata": {},
   "outputs": [
    {
     "name": "stdout",
     "output_type": "stream",
     "text": [
      "This message contains confidential data\n"
     ]
    }
   ],
   "source": [
    "print(decrypted_data.decode())"
   ]
  },
  {
   "cell_type": "markdown",
   "id": "d626f4dc-d1a3-495c-bce3-ab048364335d",
   "metadata": {},
   "source": [
    "# Reading the Key and Decryting the Data"
   ]
  },
  {
   "cell_type": "code",
   "execution_count": 11,
   "id": "a6c768ff-2704-4094-8bd9-8a7bb4bffac5",
   "metadata": {},
   "outputs": [],
   "source": [
    "path_to_save_key = 'mykey.txt' # e.g. D://myfolder/mykeys.txt\n",
    "textfile = open(path_to_save_key, 'r') #<-r = read\n",
    "saved_key = textfile.read()\n",
    "textfile.close()"
   ]
  },
  {
   "cell_type": "code",
   "execution_count": 14,
   "id": "19d44042-7250-4456-91fb-2ef7a0564af4",
   "metadata": {},
   "outputs": [],
   "source": [
    "f = Fernet(saved_key.encode())"
   ]
  },
  {
   "cell_type": "code",
   "execution_count": 15,
   "id": "dddc4a72-0948-4168-a4ee-f04809477b1f",
   "metadata": {},
   "outputs": [],
   "source": [
    "decrypted_data = f.decrypt(encrypted_data) # f is the variable that has the value of the key."
   ]
  },
  {
   "cell_type": "code",
   "execution_count": 17,
   "id": "f46efe54-f1e6-4c8b-8fb2-2aba2ae8da26",
   "metadata": {},
   "outputs": [
    {
     "name": "stdout",
     "output_type": "stream",
     "text": [
      "b'This message contains confidential data'\n"
     ]
    }
   ],
   "source": [
    "print(decrypted_data)"
   ]
  },
  {
   "cell_type": "code",
   "execution_count": null,
   "id": "c69295c6-89ba-4979-b82b-64c17a9ef0e2",
   "metadata": {},
   "outputs": [],
   "source": []
  }
 ],
 "metadata": {
  "kernelspec": {
   "display_name": "Python 3",
   "language": "python",
   "name": "python3"
  },
  "language_info": {
   "codemirror_mode": {
    "name": "ipython",
    "version": 3
   },
   "file_extension": ".py",
   "mimetype": "text/x-python",
   "name": "python",
   "nbconvert_exporter": "python",
   "pygments_lexer": "ipython3",
   "version": "3.8.6"
  }
 },
 "nbformat": 4,
 "nbformat_minor": 5
}
