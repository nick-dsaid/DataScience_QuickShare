{
 "cells": [
  {
   "cell_type": "markdown",
   "id": "afee08f2-d229-42e6-9808-668b2bbcf486",
   "metadata": {},
   "source": [
    "# Measuring Computing Time"
   ]
  },
  {
   "cell_type": "code",
   "execution_count": 5,
   "id": "4ec410bb-a989-40e2-aed6-854c007c5c58",
   "metadata": {},
   "outputs": [],
   "source": [
    "import pandas as pd\n",
    "import seaborn as sns"
   ]
  },
  {
   "cell_type": "code",
   "execution_count": 6,
   "id": "b62a9729-4542-43a6-9d6e-068f9e4465ff",
   "metadata": {},
   "outputs": [],
   "source": [
    "df = sns.load_dataset(\"tips\")"
   ]
  },
  {
   "cell_type": "code",
   "execution_count": 16,
   "id": "2b6577fa-de11-4e8b-8480-d52bf280178f",
   "metadata": {},
   "outputs": [],
   "source": [
    "#%%timeit\n",
    "\n",
    "def square(N):\n",
    "    list_a = []\n",
    "    for n in range(N):\n",
    "        list_a.append(n**2)\n",
    "    return list_a"
   ]
  },
  {
   "cell_type": "code",
   "execution_count": 12,
   "id": "7c6cbfaa-c3d5-46bf-89b7-79755b323126",
   "metadata": {},
   "outputs": [],
   "source": [
    "from numpy import vectorize"
   ]
  },
  {
   "cell_type": "code",
   "execution_count": 18,
   "id": "4d06ae60-ffe3-448d-be51-9e66e860fe17",
   "metadata": {},
   "outputs": [],
   "source": [
    "v_square = vectorize(square)"
   ]
  },
  {
   "cell_type": "code",
   "execution_count": 21,
   "id": "2e501940-7a83-4be1-a618-11eb5aff093c",
   "metadata": {},
   "outputs": [
    {
     "name": "stdout",
     "output_type": "stream",
     "text": [
      "2.05 ms ± 238 µs per loop (mean ± std. dev. of 7 runs, 100 loops each)\n"
     ]
    }
   ],
   "source": [
    "%timeit square(5000)"
   ]
  },
  {
   "cell_type": "code",
   "execution_count": 20,
   "id": "3a192e2e-7cc3-4d28-a9b2-d5304eff3ff6",
   "metadata": {},
   "outputs": [
    {
     "name": "stdout",
     "output_type": "stream",
     "text": [
      "5.1 ms ± 394 µs per loop (mean ± std. dev. of 7 runs, 100 loops each)\n"
     ]
    }
   ],
   "source": [
    "%timeit v_square(5000)"
   ]
  },
  {
   "cell_type": "code",
   "execution_count": 8,
   "id": "55ecd30d-9539-45d1-9de4-cac971df6864",
   "metadata": {},
   "outputs": [
    {
     "name": "stdout",
     "output_type": "stream",
     "text": [
      "306 µs ± 20.3 µs per loop (mean ± std. dev. of 7 runs, 1000 loops each)\n"
     ]
    }
   ],
   "source": [
    "%%timeit\n",
    "df.tip / df.total_bill**2"
   ]
  },
  {
   "cell_type": "code",
   "execution_count": 9,
   "id": "0e35907c-9d68-422c-ab39-44841c95705a",
   "metadata": {},
   "outputs": [
    {
     "name": "stdout",
     "output_type": "stream",
     "text": [
      "12.6 ms ± 1.33 ms per loop (mean ± std. dev. of 7 runs, 100 loops each)\n"
     ]
    }
   ],
   "source": [
    "%%timeit\n",
    "df.apply(lambda x: (x.tip / x.total_bill)**2, axis=1)"
   ]
  },
  {
   "cell_type": "code",
   "execution_count": 10,
   "id": "10090b7e-fb06-4f3a-b0ce-682a186de025",
   "metadata": {},
   "outputs": [
    {
     "name": "stdout",
     "output_type": "stream",
     "text": [
      "Requirement already satisfied: pandarallel in /opt/conda/lib/python3.8/site-packages (1.5.4)\n",
      "Requirement already satisfied: dill in /opt/conda/lib/python3.8/site-packages (from pandarallel) (0.3.4)\n"
     ]
    }
   ],
   "source": [
    "!pip install pandarallel"
   ]
  },
  {
   "cell_type": "code",
   "execution_count": 10,
   "id": "dccc53b8-d261-43df-a4ee-9722d3080a26",
   "metadata": {},
   "outputs": [
    {
     "name": "stdout",
     "output_type": "stream",
     "text": [
      "INFO: Pandarallel will run on 12 workers.\n",
      "INFO: Pandarallel will use Memory file system to transfer data between the main process and workers.\n"
     ]
    }
   ],
   "source": [
    "from pandarallel import pandarallel\n",
    "pandarallel.initialize(progress_bar=False)"
   ]
  },
  {
   "cell_type": "code",
   "execution_count": 11,
   "id": "e1180fea-69f5-4e6e-8cea-83e2f3eea71c",
   "metadata": {},
   "outputs": [
    {
     "name": "stdout",
     "output_type": "stream",
     "text": [
      "356 ms ± 13 ms per loop (mean ± std. dev. of 7 runs, 1 loop each)\n"
     ]
    }
   ],
   "source": [
    "%%timeit\n",
    "df.parallel_apply(lambda x: (x.tip / x.total_bill)**2, axis=1)"
   ]
  },
  {
   "cell_type": "code",
   "execution_count": null,
   "id": "8d375882-7643-4600-a708-8b373dec3953",
   "metadata": {},
   "outputs": [],
   "source": []
  }
 ],
 "metadata": {
  "kernelspec": {
   "display_name": "Python 3",
   "language": "python",
   "name": "python3"
  },
  "language_info": {
   "codemirror_mode": {
    "name": "ipython",
    "version": 3
   },
   "file_extension": ".py",
   "mimetype": "text/x-python",
   "name": "python",
   "nbconvert_exporter": "python",
   "pygments_lexer": "ipython3",
   "version": "3.8.6"
  }
 },
 "nbformat": 4,
 "nbformat_minor": 5
}
