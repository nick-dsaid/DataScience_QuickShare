# Run once for installation
get_ipython().getoutput("pip install cryptography")


from cryptography.fernet import Fernet


# In order to start encrypting data,
# we must first create a fernet key.

key =  Fernet.generate_key() 
f =  Fernet(key)

#In the above lines, 
# we generated a key using the generate_key() method 
# and then assigned that key to a variable “f” in the next line.


# To view 
print(key.decode())


# Save the key for reuse
path_to_save_key = 'mykey.txt' # e.g. D://myfolder/mykeys.txt
textfile_new = open(path_to_save_key, 'w')
textfile_new.write(key.decode())
textfile_new.close()


encrypted_data = f.encrypt(b"This message contains confidential data")


print(encrypted_data)


decrypted_data = f.decrypt(encrypted_data) # f is the variable that has the value of the key.


print(decrypted_data)


print(decrypted_data.decode())


path_to_save_key = 'mykey.txt' # e.g. D://myfolder/mykeys.txt
textfile = open(path_to_save_key, 'r') #<-r = read
saved_key = textfile.read()
textfile.close()


f = Fernet(saved_key.encode())


decrypted_data = f.decrypt(encrypted_data) # f is the variable that has the value of the key.


print(decrypted_data)



