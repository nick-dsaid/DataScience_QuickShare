<<<<<<< HEAD
# Run once for installation
get_ipython().getoutput("pip install cryptography")


from cryptography.fernet import Fernet


# In order to start encrypting data,
# we must first create a fernet key.

key =  Fernet.generate_key() 
f =  Fernet(key)

#In the above lines, 
# we generated a key using the generate_key() method 
# and then assigned that key to a variable “f” in the next line.


# To view 
print(key.decode())


# Save the key for reuse
path_to_save_key = 'mykey.txt' # e.g. D://myfolder/mykeys.txt
textfile_new = open(path_to_save_key, 'w')
textfile_new.write(key.decode())
textfile_new.close()


encrypted_data = f.encrypt(b"This message contains confidential data")


print(encrypted_data)


decrypted_data = f.decrypt(encrypted_data) # f is the variable that has the value of the key.


print(decrypted_data)


print(decrypted_data.decode())


path_to_save_key = 'mykey.txt' # e.g. D://myfolder/mykeys.txt
textfile = open(path_to_save_key, 'r') #<-r = read
saved_key = textfile.read()
textfile.close()


f = Fernet(saved_key.encode())


decrypted_data = f.decrypt(encrypted_data) # f is the variable that has the value of the key.


print(decrypted_data)



=======
# This line install the package. Only need to run once.
# It requires internet to install the package
get_ipython().getoutput("pip install -U fuzzywuzzy")


import pandas as pd
from fuzzywuzzy import process


data = [
    ['Merry Chan', 'Female'],
    ['Tan Ah Beng', 'Male'],
    ['Abdul Aziz', 'Male'],
    ['Kumar Rajah', 'Male']
]


df1 = pd.DataFrame(data, columns=['name', 'gender'])
df1


data2 = [
    ['Marry Chan', 70],
    ['Tang Ah Ben', 35],
    ['Abu Aziz', 75]
]


df2 = pd.DataFrame(data2, columns=['name', 'score'])
df2


# list for storing the matching result
results = []

# for each step in the loop, we process every "name" value in the df1
for name_in_df1 in df1.name:
    # Store the two results returned by the function
    (best_matched, match_score, _) = process.extractOne(name_in_df1, df2.name)
    # Append the results into the list, together with the original value (i.e. name_in_df1)
    results.append([name_in_df1, best_matched, match_score])


# Transform the results into a DataFrame
# This make it easier to view and easy to be used for further processing or merging
results = pd.DataFrame(results, columns=['name_in_table1', 'best_match_from_table2', 'match_score'])
results
>>>>>>> parent of 671b987 (Added WebScrapping)
