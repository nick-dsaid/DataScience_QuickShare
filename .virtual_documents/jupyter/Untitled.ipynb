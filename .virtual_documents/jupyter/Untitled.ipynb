# This line install the package. Only need to run once.
# It requires internet to install the package
get_ipython().getoutput("pip install -U fuzzywuzzy")


import pandas as pd
from fuzzywuzzy import process


data = [
    ['Merry Chan', 'Female'],
    ['Tan Ah Beng', 'Male'],
    ['Abdul Aziz', 'Male'],
    ['Kumar Rajah', 'Male']
]


df1 = pd.DataFrame(data, columns=['name', 'gender'])
df1


data2 = [
    ['Marry Chan', 70],
    ['Tang Ah Ben', 35],
    ['Abu Aziz', 75]
]


df2 = pd.DataFrame(data2, columns=['name', 'score'])
df2


# list for storing the matching result
results = []

# for each step in the loop, we process every "name" value in the df1
for name_in_df1 in df1.name:
    # Store the two results returned by the function
    (best_matched, match_score, _) = process.extractOne(name_in_df1, df2.name)
    # Append the results into the list, together with the original value (i.e. name_in_df1)
    results.append([name_in_df1, best_matched, match_score])


# Transform the results into a DataFrame
# This make it easier to view and easy to be used for further processing or merging
results = pd.DataFrame(results, columns=['name_in_table1', 'best_match_from_table2', 'match_score'])
results
