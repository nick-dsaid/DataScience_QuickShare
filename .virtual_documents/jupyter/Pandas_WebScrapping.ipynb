import pandas as pd





url = 'https://en.wikipedia.org/wiki/List_of_unicorn_startup_companies'


list_of_tables = pd.read_html(url)


# check how many tables were retrieved
len(list_of_tables)


# increase the integer stored in i to see the contents in each of the table
# 0 is the first table in the list (index starts with 0 in Python), 
# then followed by 1, 2, 3, 4, and so on.
i = 3 # <-retrieve the 4th table
list_of_tables[i]


len(pd.read_html(url, match='Uber'))


pd.read_html(url, match='Uber')[0] # <- index 0 is used because there is only one table being retrieved


url = 'https://mrtmapsingapore.com/mrt-stations-singapore/'
pd.read_html(url)



