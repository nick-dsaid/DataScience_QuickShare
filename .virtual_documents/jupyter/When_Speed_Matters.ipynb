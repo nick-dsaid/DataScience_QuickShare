import pandas as pd
import seaborn as sns


df = sns.load_dataset("tips")


#%%timeit

def square(N):
    list_a = []
    for n in range(N):
        list_a.append(n**2)
    return list_a


from numpy import vectorize


v_square = vectorize(square)


get_ipython().run_line_magic("timeit", " square(5000)")


get_ipython().run_line_magic("timeit", " v_square(5000)")


get_ipython().run_cell_magic("timeit", "", """df.tip / df.total_bill**2""")


get_ipython().run_cell_magic("timeit", "", """df.apply(lambda x: (x.tip / x.total_bill)**2, axis=1)""")


get_ipython().getoutput("pip install pandarallel")


from pandarallel import pandarallel
pandarallel.initialize(progress_bar=False)


get_ipython().run_cell_magic("timeit", "", """df.parallel_apply(lambda x: (x.tip / x.total_bill)**2, axis=1)""")



